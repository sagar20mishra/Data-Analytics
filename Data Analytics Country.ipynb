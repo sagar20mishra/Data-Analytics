{
 "cells": [
  {
   "cell_type": "code",
   "execution_count": 1,
   "id": "76fe4d47",
   "metadata": {},
   "outputs": [],
   "source": [
    "import pandas as pd\n",
    "import numpy as np\n",
    "import matplotlib.pyplot as plot"
   ]
  },
  {
   "cell_type": "code",
   "execution_count": 2,
   "id": "095ea4da",
   "metadata": {},
   "outputs": [],
   "source": [
    "df=pd.read_csv(\"F:/GDP.csv\") # to load data"
   ]
  },
  {
   "cell_type": "code",
   "execution_count": 3,
   "id": "58a0f06f",
   "metadata": {},
   "outputs": [
    {
     "data": {
      "text/html": [
       "<div>\n",
       "<style scoped>\n",
       "    .dataframe tbody tr th:only-of-type {\n",
       "        vertical-align: middle;\n",
       "    }\n",
       "\n",
       "    .dataframe tbody tr th {\n",
       "        vertical-align: top;\n",
       "    }\n",
       "\n",
       "    .dataframe thead th {\n",
       "        text-align: right;\n",
       "    }\n",
       "</style>\n",
       "<table border=\"1\" class=\"dataframe\">\n",
       "  <thead>\n",
       "    <tr style=\"text-align: right;\">\n",
       "      <th></th>\n",
       "      <th>Country</th>\n",
       "      <th>Country Code</th>\n",
       "      <th>1990</th>\n",
       "      <th>1991</th>\n",
       "      <th>1992</th>\n",
       "      <th>1993</th>\n",
       "      <th>1994</th>\n",
       "      <th>1995</th>\n",
       "      <th>1996</th>\n",
       "      <th>1997</th>\n",
       "      <th>...</th>\n",
       "      <th>2010</th>\n",
       "      <th>2011</th>\n",
       "      <th>2012</th>\n",
       "      <th>2013</th>\n",
       "      <th>2014</th>\n",
       "      <th>2015</th>\n",
       "      <th>2016</th>\n",
       "      <th>2017</th>\n",
       "      <th>2018</th>\n",
       "      <th>2019</th>\n",
       "    </tr>\n",
       "  </thead>\n",
       "  <tbody>\n",
       "    <tr>\n",
       "      <th>0</th>\n",
       "      <td>Aruba</td>\n",
       "      <td>ABW</td>\n",
       "      <td>24101.109430</td>\n",
       "      <td>25870.755940</td>\n",
       "      <td>26533.343900</td>\n",
       "      <td>27430.752400</td>\n",
       "      <td>28656.520210</td>\n",
       "      <td>28648.990020</td>\n",
       "      <td>28499.089430</td>\n",
       "      <td>30215.949230</td>\n",
       "      <td>...</td>\n",
       "      <td>33732.847450</td>\n",
       "      <td>35492.618490</td>\n",
       "      <td>35498.982090</td>\n",
       "      <td>37419.892820</td>\n",
       "      <td>38223.372260</td>\n",
       "      <td>38249.054870</td>\n",
       "      <td>38390.271650</td>\n",
       "      <td>39454.629830</td>\n",
       "      <td>NaN</td>\n",
       "      <td>NaN</td>\n",
       "    </tr>\n",
       "    <tr>\n",
       "      <th>1</th>\n",
       "      <td>Afghanistan</td>\n",
       "      <td>AFG</td>\n",
       "      <td>NaN</td>\n",
       "      <td>NaN</td>\n",
       "      <td>NaN</td>\n",
       "      <td>NaN</td>\n",
       "      <td>NaN</td>\n",
       "      <td>NaN</td>\n",
       "      <td>NaN</td>\n",
       "      <td>NaN</td>\n",
       "      <td>...</td>\n",
       "      <td>1637.377987</td>\n",
       "      <td>1626.764793</td>\n",
       "      <td>1806.763930</td>\n",
       "      <td>1874.765634</td>\n",
       "      <td>1897.525938</td>\n",
       "      <td>1886.692977</td>\n",
       "      <td>1896.992520</td>\n",
       "      <td>1934.636754</td>\n",
       "      <td>1955.006208</td>\n",
       "      <td>NaN</td>\n",
       "    </tr>\n",
       "    <tr>\n",
       "      <th>2</th>\n",
       "      <td>Angola</td>\n",
       "      <td>AGO</td>\n",
       "      <td>3089.683369</td>\n",
       "      <td>3120.356148</td>\n",
       "      <td>2908.160798</td>\n",
       "      <td>2190.768160</td>\n",
       "      <td>2195.532289</td>\n",
       "      <td>2496.199493</td>\n",
       "      <td>2794.896906</td>\n",
       "      <td>2953.342709</td>\n",
       "      <td>...</td>\n",
       "      <td>6230.297028</td>\n",
       "      <td>6346.395122</td>\n",
       "      <td>6772.528333</td>\n",
       "      <td>6980.423038</td>\n",
       "      <td>7199.245478</td>\n",
       "      <td>7096.600615</td>\n",
       "      <td>6756.935074</td>\n",
       "      <td>6650.584940</td>\n",
       "      <td>6452.355165</td>\n",
       "      <td>NaN</td>\n",
       "    </tr>\n",
       "    <tr>\n",
       "      <th>3</th>\n",
       "      <td>Albania</td>\n",
       "      <td>ALB</td>\n",
       "      <td>2549.473022</td>\n",
       "      <td>1909.114038</td>\n",
       "      <td>1823.307673</td>\n",
       "      <td>2057.449657</td>\n",
       "      <td>2289.873135</td>\n",
       "      <td>2665.764906</td>\n",
       "      <td>2980.066288</td>\n",
       "      <td>2717.362124</td>\n",
       "      <td>...</td>\n",
       "      <td>9628.025783</td>\n",
       "      <td>10207.752350</td>\n",
       "      <td>10526.235450</td>\n",
       "      <td>10571.010650</td>\n",
       "      <td>11259.225890</td>\n",
       "      <td>11662.030480</td>\n",
       "      <td>11868.178970</td>\n",
       "      <td>12930.140030</td>\n",
       "      <td>13364.155400</td>\n",
       "      <td>NaN</td>\n",
       "    </tr>\n",
       "    <tr>\n",
       "      <th>4</th>\n",
       "      <td>Arab World</td>\n",
       "      <td>ARB</td>\n",
       "      <td>6808.206995</td>\n",
       "      <td>6872.273195</td>\n",
       "      <td>7255.328362</td>\n",
       "      <td>7458.647059</td>\n",
       "      <td>7645.682856</td>\n",
       "      <td>7774.207360</td>\n",
       "      <td>8094.149842</td>\n",
       "      <td>8397.515692</td>\n",
       "      <td>...</td>\n",
       "      <td>14127.778020</td>\n",
       "      <td>14518.827450</td>\n",
       "      <td>15423.465390</td>\n",
       "      <td>15824.780110</td>\n",
       "      <td>16153.244860</td>\n",
       "      <td>16501.792590</td>\n",
       "      <td>16935.383300</td>\n",
       "      <td>17099.889390</td>\n",
       "      <td>17570.137600</td>\n",
       "      <td>NaN</td>\n",
       "    </tr>\n",
       "    <tr>\n",
       "      <th>...</th>\n",
       "      <td>...</td>\n",
       "      <td>...</td>\n",
       "      <td>...</td>\n",
       "      <td>...</td>\n",
       "      <td>...</td>\n",
       "      <td>...</td>\n",
       "      <td>...</td>\n",
       "      <td>...</td>\n",
       "      <td>...</td>\n",
       "      <td>...</td>\n",
       "      <td>...</td>\n",
       "      <td>...</td>\n",
       "      <td>...</td>\n",
       "      <td>...</td>\n",
       "      <td>...</td>\n",
       "      <td>...</td>\n",
       "      <td>...</td>\n",
       "      <td>...</td>\n",
       "      <td>...</td>\n",
       "      <td>...</td>\n",
       "      <td>...</td>\n",
       "    </tr>\n",
       "    <tr>\n",
       "      <th>255</th>\n",
       "      <td>Kosovo</td>\n",
       "      <td>XKX</td>\n",
       "      <td>NaN</td>\n",
       "      <td>NaN</td>\n",
       "      <td>NaN</td>\n",
       "      <td>NaN</td>\n",
       "      <td>NaN</td>\n",
       "      <td>NaN</td>\n",
       "      <td>NaN</td>\n",
       "      <td>NaN</td>\n",
       "      <td>...</td>\n",
       "      <td>7782.875107</td>\n",
       "      <td>8222.285712</td>\n",
       "      <td>8547.652384</td>\n",
       "      <td>8903.763429</td>\n",
       "      <td>9194.741819</td>\n",
       "      <td>9781.019679</td>\n",
       "      <td>10208.857900</td>\n",
       "      <td>10756.663460</td>\n",
       "      <td>11348.363450</td>\n",
       "      <td>NaN</td>\n",
       "    </tr>\n",
       "    <tr>\n",
       "      <th>256</th>\n",
       "      <td>Yemen, Rep.</td>\n",
       "      <td>YEM</td>\n",
       "      <td>2223.028771</td>\n",
       "      <td>2325.263661</td>\n",
       "      <td>2443.920401</td>\n",
       "      <td>2472.188808</td>\n",
       "      <td>2569.648739</td>\n",
       "      <td>2657.813447</td>\n",
       "      <td>2730.145147</td>\n",
       "      <td>2829.866193</td>\n",
       "      <td>...</td>\n",
       "      <td>4472.726448</td>\n",
       "      <td>3876.302619</td>\n",
       "      <td>3935.167105</td>\n",
       "      <td>4084.882967</td>\n",
       "      <td>4045.500031</td>\n",
       "      <td>3320.110156</td>\n",
       "      <td>2827.691023</td>\n",
       "      <td>2645.308383</td>\n",
       "      <td>2575.126385</td>\n",
       "      <td>NaN</td>\n",
       "    </tr>\n",
       "    <tr>\n",
       "      <th>257</th>\n",
       "      <td>South Africa</td>\n",
       "      <td>ZAF</td>\n",
       "      <td>6424.502215</td>\n",
       "      <td>6414.057923</td>\n",
       "      <td>6261.716184</td>\n",
       "      <td>6331.777580</td>\n",
       "      <td>6520.866604</td>\n",
       "      <td>6719.583315</td>\n",
       "      <td>7000.801619</td>\n",
       "      <td>7179.806651</td>\n",
       "      <td>...</td>\n",
       "      <td>11728.160490</td>\n",
       "      <td>12179.174190</td>\n",
       "      <td>12488.215570</td>\n",
       "      <td>12815.727070</td>\n",
       "      <td>13090.476830</td>\n",
       "      <td>13185.253280</td>\n",
       "      <td>13188.029620</td>\n",
       "      <td>13438.282890</td>\n",
       "      <td>13686.882360</td>\n",
       "      <td>NaN</td>\n",
       "    </tr>\n",
       "    <tr>\n",
       "      <th>258</th>\n",
       "      <td>Zambia</td>\n",
       "      <td>ZMB</td>\n",
       "      <td>1517.926292</td>\n",
       "      <td>1528.781247</td>\n",
       "      <td>1499.340446</td>\n",
       "      <td>1600.347799</td>\n",
       "      <td>1457.627696</td>\n",
       "      <td>1493.123972</td>\n",
       "      <td>1572.973238</td>\n",
       "      <td>1616.492883</td>\n",
       "      <td>...</td>\n",
       "      <td>3269.794329</td>\n",
       "      <td>3419.010460</td>\n",
       "      <td>3634.780353</td>\n",
       "      <td>3765.584162</td>\n",
       "      <td>3893.549478</td>\n",
       "      <td>3927.761816</td>\n",
       "      <td>3998.004435</td>\n",
       "      <td>4090.120040</td>\n",
       "      <td>4223.906936</td>\n",
       "      <td>NaN</td>\n",
       "    </tr>\n",
       "    <tr>\n",
       "      <th>259</th>\n",
       "      <td>Zimbabwe</td>\n",
       "      <td>ZWE</td>\n",
       "      <td>1829.677575</td>\n",
       "      <td>1949.732966</td>\n",
       "      <td>1777.843425</td>\n",
       "      <td>1807.225700</td>\n",
       "      <td>1986.028160</td>\n",
       "      <td>2004.362417</td>\n",
       "      <td>2227.060619</td>\n",
       "      <td>2303.829588</td>\n",
       "      <td>...</td>\n",
       "      <td>1888.566739</td>\n",
       "      <td>2168.110293</td>\n",
       "      <td>2534.541919</td>\n",
       "      <td>2583.985638</td>\n",
       "      <td>2648.568967</td>\n",
       "      <td>2679.580317</td>\n",
       "      <td>2687.385429</td>\n",
       "      <td>2825.725122</td>\n",
       "      <td>3029.793005</td>\n",
       "      <td>NaN</td>\n",
       "    </tr>\n",
       "  </tbody>\n",
       "</table>\n",
       "<p>260 rows × 32 columns</p>\n",
       "</div>"
      ],
      "text/plain": [
       "         Country  Country Code          1990          1991          1992  \\\n",
       "0           Aruba          ABW  24101.109430  25870.755940  26533.343900   \n",
       "1     Afghanistan          AFG           NaN           NaN           NaN   \n",
       "2          Angola          AGO   3089.683369   3120.356148   2908.160798   \n",
       "3         Albania          ALB   2549.473022   1909.114038   1823.307673   \n",
       "4      Arab World          ARB   6808.206995   6872.273195   7255.328362   \n",
       "..            ...          ...           ...           ...           ...   \n",
       "255        Kosovo          XKX           NaN           NaN           NaN   \n",
       "256   Yemen, Rep.          YEM   2223.028771   2325.263661   2443.920401   \n",
       "257  South Africa          ZAF   6424.502215   6414.057923   6261.716184   \n",
       "258        Zambia          ZMB   1517.926292   1528.781247   1499.340446   \n",
       "259      Zimbabwe          ZWE   1829.677575   1949.732966   1777.843425   \n",
       "\n",
       "             1993          1994          1995          1996          1997  \\\n",
       "0    27430.752400  28656.520210  28648.990020  28499.089430  30215.949230   \n",
       "1             NaN           NaN           NaN           NaN           NaN   \n",
       "2     2190.768160   2195.532289   2496.199493   2794.896906   2953.342709   \n",
       "3     2057.449657   2289.873135   2665.764906   2980.066288   2717.362124   \n",
       "4     7458.647059   7645.682856   7774.207360   8094.149842   8397.515692   \n",
       "..            ...           ...           ...           ...           ...   \n",
       "255           NaN           NaN           NaN           NaN           NaN   \n",
       "256   2472.188808   2569.648739   2657.813447   2730.145147   2829.866193   \n",
       "257   6331.777580   6520.866604   6719.583315   7000.801619   7179.806651   \n",
       "258   1600.347799   1457.627696   1493.123972   1572.973238   1616.492883   \n",
       "259   1807.225700   1986.028160   2004.362417   2227.060619   2303.829588   \n",
       "\n",
       "     ...          2010          2011          2012          2013  \\\n",
       "0    ...  33732.847450  35492.618490  35498.982090  37419.892820   \n",
       "1    ...   1637.377987   1626.764793   1806.763930   1874.765634   \n",
       "2    ...   6230.297028   6346.395122   6772.528333   6980.423038   \n",
       "3    ...   9628.025783  10207.752350  10526.235450  10571.010650   \n",
       "4    ...  14127.778020  14518.827450  15423.465390  15824.780110   \n",
       "..   ...           ...           ...           ...           ...   \n",
       "255  ...   7782.875107   8222.285712   8547.652384   8903.763429   \n",
       "256  ...   4472.726448   3876.302619   3935.167105   4084.882967   \n",
       "257  ...  11728.160490  12179.174190  12488.215570  12815.727070   \n",
       "258  ...   3269.794329   3419.010460   3634.780353   3765.584162   \n",
       "259  ...   1888.566739   2168.110293   2534.541919   2583.985638   \n",
       "\n",
       "             2014          2015          2016          2017          2018  \\\n",
       "0    38223.372260  38249.054870  38390.271650  39454.629830           NaN   \n",
       "1     1897.525938   1886.692977   1896.992520   1934.636754   1955.006208   \n",
       "2     7199.245478   7096.600615   6756.935074   6650.584940   6452.355165   \n",
       "3    11259.225890  11662.030480  11868.178970  12930.140030  13364.155400   \n",
       "4    16153.244860  16501.792590  16935.383300  17099.889390  17570.137600   \n",
       "..            ...           ...           ...           ...           ...   \n",
       "255   9194.741819   9781.019679  10208.857900  10756.663460  11348.363450   \n",
       "256   4045.500031   3320.110156   2827.691023   2645.308383   2575.126385   \n",
       "257  13090.476830  13185.253280  13188.029620  13438.282890  13686.882360   \n",
       "258   3893.549478   3927.761816   3998.004435   4090.120040   4223.906936   \n",
       "259   2648.568967   2679.580317   2687.385429   2825.725122   3029.793005   \n",
       "\n",
       "     2019  \n",
       "0     NaN  \n",
       "1     NaN  \n",
       "2     NaN  \n",
       "3     NaN  \n",
       "4     NaN  \n",
       "..    ...  \n",
       "255   NaN  \n",
       "256   NaN  \n",
       "257   NaN  \n",
       "258   NaN  \n",
       "259   NaN  \n",
       "\n",
       "[260 rows x 32 columns]"
      ]
     },
     "execution_count": 3,
     "metadata": {},
     "output_type": "execute_result"
    }
   ],
   "source": [
    "df"
   ]
  },
  {
   "cell_type": "code",
   "execution_count": 4,
   "id": "5ad00843",
   "metadata": {},
   "outputs": [
    {
     "name": "stdout",
     "output_type": "stream",
     "text": [
      "      Country  Country Code          1990          1991          1992  \\\n",
      "0        Aruba          ABW  24101.109430  25870.755940  26533.343900   \n",
      "1  Afghanistan          AFG           NaN           NaN           NaN   \n",
      "2       Angola          AGO   3089.683369   3120.356148   2908.160798   \n",
      "3      Albania          ALB   2549.473022   1909.114038   1823.307673   \n",
      "4   Arab World          ARB   6808.206995   6872.273195   7255.328362   \n",
      "\n",
      "           1993          1994          1995          1996          1997  ...  \\\n",
      "0  27430.752400  28656.520210  28648.990020  28499.089430  30215.949230  ...   \n",
      "1           NaN           NaN           NaN           NaN           NaN  ...   \n",
      "2   2190.768160   2195.532289   2496.199493   2794.896906   2953.342709  ...   \n",
      "3   2057.449657   2289.873135   2665.764906   2980.066288   2717.362124  ...   \n",
      "4   7458.647059   7645.682856   7774.207360   8094.149842   8397.515692  ...   \n",
      "\n",
      "           2010          2011          2012          2013          2014  \\\n",
      "0  33732.847450  35492.618490  35498.982090  37419.892820  38223.372260   \n",
      "1   1637.377987   1626.764793   1806.763930   1874.765634   1897.525938   \n",
      "2   6230.297028   6346.395122   6772.528333   6980.423038   7199.245478   \n",
      "3   9628.025783  10207.752350  10526.235450  10571.010650  11259.225890   \n",
      "4  14127.778020  14518.827450  15423.465390  15824.780110  16153.244860   \n",
      "\n",
      "           2015          2016          2017          2018  2019  \n",
      "0  38249.054870  38390.271650  39454.629830           NaN   NaN  \n",
      "1   1886.692977   1896.992520   1934.636754   1955.006208   NaN  \n",
      "2   7096.600615   6756.935074   6650.584940   6452.355165   NaN  \n",
      "3  11662.030480  11868.178970  12930.140030  13364.155400   NaN  \n",
      "4  16501.792590  16935.383300  17099.889390  17570.137600   NaN  \n",
      "\n",
      "[5 rows x 32 columns]\n"
     ]
    }
   ],
   "source": [
    "print(df.head()) # to know colulmns of the file with first five rows"
   ]
  },
  {
   "cell_type": "code",
   "execution_count": 5,
   "id": "eb7b8048",
   "metadata": {},
   "outputs": [
    {
     "name": "stdout",
     "output_type": "stream",
     "text": [
      "(260, 32)\n"
     ]
    }
   ],
   "source": [
    "print(df.shape) #print roaws and columns"
   ]
  },
  {
   "cell_type": "code",
   "execution_count": 6,
   "id": "dcb1a9b7",
   "metadata": {},
   "outputs": [
    {
     "name": "stdout",
     "output_type": "stream",
     "text": [
      "Index(['Country ', 'Country Code', '1990', '1991', '1992', '1993', '1994',\n",
      "       '1995', '1996', '1997', '1998', '1999', '2000', '2001', '2002', '2003',\n",
      "       '2004', '2005', '2006', '2007', '2008', '2009', '2010', '2011', '2012',\n",
      "       '2013', '2014', '2015', '2016', '2017', '2018', '2019'],\n",
      "      dtype='object')\n"
     ]
    }
   ],
   "source": [
    "print(df.columns) # print columns names"
   ]
  },
  {
   "cell_type": "code",
   "execution_count": 7,
   "id": "c61dcfd6",
   "metadata": {},
   "outputs": [
    {
     "name": "stdout",
     "output_type": "stream",
     "text": [
      "Country          object\n",
      "Country Code     object\n",
      "1990            float64\n",
      "1991            float64\n",
      "1992            float64\n",
      "1993            float64\n",
      "1994            float64\n",
      "1995            float64\n",
      "1996            float64\n",
      "1997            float64\n",
      "1998            float64\n",
      "1999            float64\n",
      "2000            float64\n",
      "2001            float64\n",
      "2002            float64\n",
      "2003            float64\n",
      "2004            float64\n",
      "2005            float64\n",
      "2006            float64\n",
      "2007            float64\n",
      "2008            float64\n",
      "2009            float64\n",
      "2010            float64\n",
      "2011            float64\n",
      "2012            float64\n",
      "2013            float64\n",
      "2014            float64\n",
      "2015            float64\n",
      "2016            float64\n",
      "2017            float64\n",
      "2018            float64\n",
      "2019            float64\n",
      "dtype: object\n"
     ]
    }
   ],
   "source": [
    "print(df.dtypes) #print data types of columns"
   ]
  },
  {
   "cell_type": "code",
   "execution_count": 8,
   "id": "f625a7ce",
   "metadata": {},
   "outputs": [
    {
     "name": "stdout",
     "output_type": "stream",
     "text": [
      "<class 'pandas.core.frame.DataFrame'>\n",
      "RangeIndex: 260 entries, 0 to 259\n",
      "Data columns (total 32 columns):\n",
      " #   Column        Non-Null Count  Dtype  \n",
      "---  ------        --------------  -----  \n",
      " 0   Country       260 non-null    object \n",
      " 1   Country Code  260 non-null    object \n",
      " 2   1990          209 non-null    float64\n",
      " 3   1991          211 non-null    float64\n",
      " 4   1992          213 non-null    float64\n",
      " 5   1993          215 non-null    float64\n",
      " 6   1994          218 non-null    float64\n",
      " 7   1995          224 non-null    float64\n",
      " 8   1996          224 non-null    float64\n",
      " 9   1997          225 non-null    float64\n",
      " 10  1998          226 non-null    float64\n",
      " 11  1999          227 non-null    float64\n",
      " 12  2000          236 non-null    float64\n",
      " 13  2001          237 non-null    float64\n",
      " 14  2002          238 non-null    float64\n",
      " 15  2003          238 non-null    float64\n",
      " 16  2004          238 non-null    float64\n",
      " 17  2005          238 non-null    float64\n",
      " 18  2006          238 non-null    float64\n",
      " 19  2007          239 non-null    float64\n",
      " 20  2008          240 non-null    float64\n",
      " 21  2009          241 non-null    float64\n",
      " 22  2010          241 non-null    float64\n",
      " 23  2011          243 non-null    float64\n",
      " 24  2012          241 non-null    float64\n",
      " 25  2013          241 non-null    float64\n",
      " 26  2014          240 non-null    float64\n",
      " 27  2015          238 non-null    float64\n",
      " 28  2016          238 non-null    float64\n",
      " 29  2017          238 non-null    float64\n",
      " 30  2018          231 non-null    float64\n",
      " 31  2019          0 non-null      float64\n",
      "dtypes: float64(30), object(2)\n",
      "memory usage: 65.1+ KB\n",
      "None\n"
     ]
    }
   ],
   "source": [
    "print(df.info()) # to know more information about data in the column"
   ]
  },
  {
   "cell_type": "code",
   "execution_count": 9,
   "id": "531000aa",
   "metadata": {},
   "outputs": [],
   "source": [
    "gdp1991_df = df['1991'] # to store column of the dataset"
   ]
  },
  {
   "cell_type": "code",
   "execution_count": 10,
   "id": "40c4ca4a",
   "metadata": {
    "scrolled": true
   },
   "outputs": [
    {
     "name": "stdout",
     "output_type": "stream",
     "text": [
      "0    25870.755940\n",
      "1             NaN\n",
      "2     3120.356148\n",
      "3     1909.114038\n",
      "4     6872.273195\n",
      "Name: 1991, dtype: float64\n"
     ]
    }
   ],
   "source": [
    "print(gdp1991_df.head()) # to print first five observations of column"
   ]
  },
  {
   "cell_type": "code",
   "execution_count": 11,
   "id": "dbb73b98",
   "metadata": {},
   "outputs": [
    {
     "name": "stdout",
     "output_type": "stream",
     "text": [
      "255            NaN\n",
      "256    2325.263661\n",
      "257    6414.057923\n",
      "258    1528.781247\n",
      "259    1949.732966\n",
      "Name: 1991, dtype: float64\n"
     ]
    }
   ],
   "source": [
    "print(gdp1991_df.tail()) # to print last five observations of column"
   ]
  },
  {
   "cell_type": "code",
   "execution_count": 12,
   "id": "d6411457",
   "metadata": {},
   "outputs": [
    {
     "name": "stdout",
     "output_type": "stream",
     "text": [
      "      Country  Country Code          2018\n",
      "0        Aruba          ABW           NaN\n",
      "1  Afghanistan          AFG   1955.006208\n",
      "2       Angola          AGO   6452.355165\n",
      "3      Albania          ALB  13364.155400\n",
      "4   Arab World          ARB  17570.137600\n"
     ]
    }
   ],
   "source": [
    "\n",
    "subset=df[['Country ','Country Code','2018']] # to make subset of few columns\n",
    "print(subset.head())"
   ]
  },
  {
   "cell_type": "code",
   "execution_count": 13,
   "id": "65897ef4",
   "metadata": {
    "scrolled": true
   },
   "outputs": [
    {
     "name": "stdout",
     "output_type": "stream",
     "text": [
      "         Country  Country Code          2018\n",
      "255        Kosovo          XKX  11348.363450\n",
      "256   Yemen, Rep.          YEM   2575.126385\n",
      "257  South Africa          ZAF  13686.882360\n",
      "258        Zambia          ZMB   4223.906936\n",
      "259      Zimbabwe          ZWE   3029.793005\n"
     ]
    }
   ],
   "source": [
    "print(subset.tail())  # last five rows of the subset"
   ]
  },
  {
   "cell_type": "code",
   "execution_count": 14,
   "id": "b1d96f0c",
   "metadata": {
    "scrolled": true
   },
   "outputs": [
    {
     "name": "stdout",
     "output_type": "stream",
     "text": [
      "Country         Afghanistan\n",
      "Country Code            AFG\n",
      "2018            1955.006208\n",
      "Name: 1, dtype: object\n"
     ]
    }
   ],
   "source": [
    "print(subset.loc[1])  # print o row of the subset"
   ]
  },
  {
   "cell_type": "code",
   "execution_count": 15,
   "id": "54458698",
   "metadata": {},
   "outputs": [
    {
     "name": "stdout",
     "output_type": "stream",
     "text": [
      "     Country  Country Code         2018\n",
      "259  Zimbabwe          ZWE  3029.793005\n"
     ]
    }
   ],
   "source": [
    "print(subset.tail(n=1))   # to get the last row"
   ]
  },
  {
   "cell_type": "code",
   "execution_count": 16,
   "id": "995998ad",
   "metadata": {},
   "outputs": [
    {
     "name": "stdout",
     "output_type": "stream",
     "text": [
      "                                              Country  Country Code  \\\n",
      "0                                                Aruba          ABW   \n",
      "100                                          Indonesia          IDN   \n",
      "155  Middle East & North Africa (excluding high inc...          MNA   \n",
      "\n",
      "           2018  \n",
      "0           NaN  \n",
      "100  13079.6193  \n",
      "155         NaN  \n"
     ]
    }
   ],
   "source": [
    "print(subset.loc[[0,100,155]])  # to select 0 100th and 155th row of the subset "
   ]
  },
  {
   "cell_type": "code",
   "execution_count": 17,
   "id": "a8519bbd",
   "metadata": {},
   "outputs": [
    {
     "name": "stdout",
     "output_type": "stream",
     "text": [
      "Country         Afghanistan\n",
      "Country Code            AFG\n",
      "2018            1955.006208\n",
      "Name: 1, dtype: object\n"
     ]
    }
   ],
   "source": [
    "print(subset.iloc[1])"
   ]
  },
  {
   "cell_type": "code",
   "execution_count": 18,
   "id": "40483cc2",
   "metadata": {},
   "outputs": [],
   "source": [
    "subnet=df.loc[:,['Country Code','2011']]"
   ]
  },
  {
   "cell_type": "code",
   "execution_count": 19,
   "id": "b64e355e",
   "metadata": {},
   "outputs": [
    {
     "name": "stdout",
     "output_type": "stream",
     "text": [
      "  Country Code          2011\n",
      "0          ABW  35492.618490\n",
      "1          AFG   1626.764793\n",
      "2          AGO   6346.395122\n",
      "3          ALB  10207.752350\n",
      "4          ARB  14518.827450\n"
     ]
    }
   ],
   "source": [
    "print(subnet.head())"
   ]
  },
  {
   "cell_type": "code",
   "execution_count": 20,
   "id": "b4557686",
   "metadata": {},
   "outputs": [
    {
     "name": "stdout",
     "output_type": "stream",
     "text": [
      "    Country Code          2011\n",
      "255          XKX   8222.285712\n",
      "256          YEM   3876.302619\n",
      "257          ZAF  12179.174190\n",
      "258          ZMB   3419.010460\n",
      "259          ZWE   2168.110293\n"
     ]
    }
   ],
   "source": [
    "print(subnet.tail())"
   ]
  },
  {
   "cell_type": "code",
   "execution_count": 21,
   "id": "13b120e5",
   "metadata": {},
   "outputs": [
    {
     "name": "stdout",
     "output_type": "stream",
     "text": [
      "  Country Code          2018\n",
      "0          ABW           NaN\n",
      "1          AFG   1955.006208\n",
      "2          AGO   6452.355165\n",
      "3          ALB  13364.155400\n",
      "4          ARB  17570.137600\n"
     ]
    }
   ],
   "source": [
    "sub=df.iloc[:,[1,-2]]  # iloc allows use to integers to access columns  ** negative means from last row\n",
    "print(sub.head())"
   ]
  },
  {
   "cell_type": "code",
   "execution_count": 22,
   "id": "c439b4c2",
   "metadata": {},
   "outputs": [],
   "source": [
    "s_range=list(range(5))"
   ]
  },
  {
   "cell_type": "code",
   "execution_count": 23,
   "id": "6a4257ac",
   "metadata": {},
   "outputs": [
    {
     "name": "stdout",
     "output_type": "stream",
     "text": [
      "[0, 1, 2, 3, 4]\n"
     ]
    }
   ],
   "source": [
    "print(s_range)"
   ]
  },
  {
   "cell_type": "code",
   "execution_count": 24,
   "id": "d0aca54c",
   "metadata": {},
   "outputs": [
    {
     "name": "stdout",
     "output_type": "stream",
     "text": [
      "      Country  Country Code          1990          1991          1992\n",
      "0        Aruba          ABW  24101.109430  25870.755940  26533.343900\n",
      "1  Afghanistan          AFG           NaN           NaN           NaN\n",
      "2       Angola          AGO   3089.683369   3120.356148   2908.160798\n",
      "3      Albania          ALB   2549.473022   1909.114038   1823.307673\n",
      "4   Arab World          ARB   6808.206995   6872.273195   7255.328362\n"
     ]
    }
   ],
   "source": [
    "sub1=df.iloc[:,s_range]  #subset the dataframe with range\n",
    "print(sub1.head())"
   ]
  },
  {
   "cell_type": "code",
   "execution_count": 25,
   "id": "e201edaf",
   "metadata": {},
   "outputs": [
    {
     "name": "stdout",
     "output_type": "stream",
     "text": [
      "United Arab Emirates\n"
     ]
    }
   ],
   "source": [
    "print(df.loc[5, 'Country '])  #subsetting rows and columns using loc"
   ]
  },
  {
   "cell_type": "code",
   "execution_count": 26,
   "id": "29adae23",
   "metadata": {},
   "outputs": [
    {
     "name": "stdout",
     "output_type": "stream",
     "text": [
      "United Arab Emirates\n"
     ]
    }
   ],
   "source": [
    "print(df.iloc[5,0])  # subsetting rows and columns using iloc"
   ]
  },
  {
   "cell_type": "code",
   "execution_count": 27,
   "id": "b001db18",
   "metadata": {},
   "outputs": [
    {
     "name": "stdout",
     "output_type": "stream",
     "text": [
      "                Country  Country Code         2003\n",
      "1            Afghanistan          AFG    888.15337\n",
      "5   United Arab Emirates          ARE  82946.33521\n",
      "10               Austria          AUT  32108.63255\n"
     ]
    }
   ],
   "source": [
    "print(df.iloc[[1,5,10],[0,1,15]])       #subsetting multiiple rows and columns using iloc of 1st,5th,10th row and 0th,1st,15th column"
   ]
  },
  {
   "cell_type": "code",
   "execution_count": 28,
   "id": "effbe2ee",
   "metadata": {},
   "outputs": [
    {
     "name": "stdout",
     "output_type": "stream",
     "text": [
      "                Country  Country Code         2003\n",
      "1            Afghanistan          AFG    888.15337\n",
      "5   United Arab Emirates          ARE  82946.33521\n",
      "10               Austria          AUT  32108.63255\n"
     ]
    }
   ],
   "source": [
    "print(df.loc[[1,5,10],['Country ','Country Code','2003']])  #using the above code by column name with loc"
   ]
  },
  {
   "cell_type": "code",
   "execution_count": 29,
   "id": "3614aba7",
   "metadata": {},
   "outputs": [
    {
     "name": "stdout",
     "output_type": "stream",
     "text": [
      "               Country  Country Code          2003\n",
      "0                 Aruba          ABW  31387.282960\n",
      "1           Afghanistan          AFG    888.153370\n",
      "2                Angola          AGO   3614.607278\n",
      "3               Albania          ALB   4994.518807\n",
      "4            Arab World          ARB   9974.641898\n",
      "5  United Arab Emirates          ARE  82946.335210\n"
     ]
    }
   ],
   "source": [
    "print(df.loc[0:5,['Country ','Country Code','2003']])  #using the above code by column name with loc within range 0:5"
   ]
  },
  {
   "cell_type": "code",
   "execution_count": null,
   "id": "2ade209c",
   "metadata": {},
   "outputs": [],
   "source": []
  },
  {
   "cell_type": "code",
   "execution_count": null,
   "id": "79f322fb",
   "metadata": {},
   "outputs": [],
   "source": []
  }
 ],
 "metadata": {
  "kernelspec": {
   "display_name": "Python 3 (ipykernel)",
   "language": "python",
   "name": "python3"
  },
  "language_info": {
   "codemirror_mode": {
    "name": "ipython",
    "version": 3
   },
   "file_extension": ".py",
   "mimetype": "text/x-python",
   "name": "python",
   "nbconvert_exporter": "python",
   "pygments_lexer": "ipython3",
   "version": "3.9.13"
  }
 },
 "nbformat": 4,
 "nbformat_minor": 5
}
